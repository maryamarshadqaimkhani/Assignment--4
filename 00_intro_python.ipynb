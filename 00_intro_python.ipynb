{
  "nbformat": 4,
  "nbformat_minor": 0,
  "metadata": {
    "colab": {
      "provenance": [],
      "authorship_tag": "ABX9TyOb5YFDx5xlxGXulBe3Pvhw",
      "include_colab_link": true
    },
    "kernelspec": {
      "name": "python3",
      "display_name": "Python 3"
    },
    "language_info": {
      "name": "python"
    }
  },
  "cells": [
    {
      "cell_type": "markdown",
      "metadata": {
        "id": "view-in-github",
        "colab_type": "text"
      },
      "source": [
        "<a href=\"https://colab.research.google.com/github/maryamarshadqaimkhani/Assignment--4/blob/main/00_intro_python.ipynb\" target=\"_parent\"><img src=\"https://colab.research.google.com/assets/colab-badge.svg\" alt=\"Open In Colab\"/></a>"
      ]
    },
    {
      "cell_type": "code",
      "source": [
        "print(\"01_add_two_numbers\")\n",
        "\n",
        "def sum():\n",
        "  print(\"This app for add two numbers\")\n",
        "  first_number = int(input(\"Enter your first number: \"))\n",
        "  second_number = int(input(\"Enter your second number: \"))\n",
        "  total = int(first_number + second_number)\n",
        "  print(f'The total sum of {first_number} & {second_number} is {total}')\n",
        "\n",
        "if __name__ == \"__main__\":\n",
        "  sum()\n"
      ],
      "metadata": {
        "id": "yQVsqesVo8PR",
        "colab": {
          "base_uri": "https://localhost:8080/"
        },
        "outputId": "c012cc7d-ad4b-4727-ffc3-fe72ecdaf593"
      },
      "execution_count": null,
      "outputs": [
        {
          "output_type": "stream",
          "name": "stdout",
          "text": [
            "01_add_two_numbers\n",
            "This app for add two numbers\n",
            "Enter your first number: 500\n",
            "Enter your second number: 500\n",
            "The total sum of 500 & 500 is 1000\n"
          ]
        }
      ]
    },
    {
      "cell_type": "code",
      "source": [
        "print(\"02_agreement_bot\")\n",
        "\n",
        "def bot():\n",
        "  animal = str(input(\"What their favourite animal is: \"))\n",
        "  print(f'My favourite animal is also {animal}')\n",
        "\n",
        "if __name__ == \"__main__\":\n",
        "  bot()"
      ],
      "metadata": {
        "colab": {
          "base_uri": "https://localhost:8080/"
        },
        "id": "9ywD97JcNjVR",
        "outputId": "0e2b5bfa-a6bf-4603-d32f-3e060d20c470"
      },
      "execution_count": null,
      "outputs": [
        {
          "output_type": "stream",
          "name": "stdout",
          "text": [
            "02_agreement_bot\n",
            "What their favourite animal is: CAT\n",
            "My favourite animal is also CAT\n"
          ]
        }
      ]
    },
    {
      "cell_type": "code",
      "source": [
        "print(\"03_fahrenheit_to_celcius\")\n",
        "\n",
        "def temperature():\n",
        "  print(\"This code for converting fahrenheit to celcius\")\n",
        "  fahrenheit_degree = float(input(\"Enter your fahrenheit degree: \"))\n",
        "  celcius_degree = (fahrenheit_degree -32) * 5.0/9.0\n",
        "  print(f\"Temperature {fahrenheit_degree} = {celcius_degree}C\")\n",
        "\n",
        "if __name__ == \"__main__\":\n",
        "  temperature()\n"
      ],
      "metadata": {
        "id": "A5O9pANvPW62",
        "colab": {
          "base_uri": "https://localhost:8080/"
        },
        "outputId": "2684fe6d-8984-4728-8dd5-79b6a2cba82e"
      },
      "execution_count": null,
      "outputs": [
        {
          "output_type": "stream",
          "name": "stdout",
          "text": [
            "03_fahrenheit_to_celcius\n",
            "This code for converting fahrenheit to celcius\n",
            "Enter your fahrenheit degree:67\n",
            "Temperature 67.0 = 19.444444444444443C\n"
          ]
        }
      ]
    },
    {
      "cell_type": "code",
      "source": [
        "print(\"04_how_old_they_are\")\n",
        "\n",
        "def add_ages():\n",
        "    anthon:int = 21\n",
        "    beth:int = anthon + 6\n",
        "    chen:int = beth + 20\n",
        "    drew:int = chen + anthon\n",
        "    ethan: int = chen\n",
        "\n",
        "    print(\"Anthon is \" + str(anthon))\n",
        "    print(\"Beth is \" + str(beth))\n",
        "    print(\"Chen is \" + str(chen))\n",
        "    print(\"Drew is \" + str(drew))\n",
        "    print(\"Ethan is \" + str(ethan))\n",
        "\n",
        "if __name__ == \"__main__\":\n",
        "  add_ages()"
      ],
      "metadata": {
        "colab": {
          "base_uri": "https://localhost:8080/"
        },
        "id": "WmKSn9qKDy0y",
        "outputId": "48050fe1-9cdc-40e0-f70a-23ce4610101d"
      },
      "execution_count": null,
      "outputs": [
        {
          "output_type": "stream",
          "name": "stdout",
          "text": [
            "04_how_old_they_are\n",
            "Anthon is 21\n",
            "Beth is 27\n",
            "Chen is 47\n",
            "Drew is 68\n",
            "Ethan is 47\n"
          ]
        }
      ]
    },
    {
      "cell_type": "code",
      "source": [
        "print(\"05_triangle_perimeter.\")\n",
        "\n",
        "def triangle():\n",
        "    print(\"This code is about sum of triangle sides\")\n",
        "    side_1:float = float(input(\"Enter your first side no of triangle: \"))\n",
        "    side_2:float = float(input(\"Enter your second side no of triangle: \"))\n",
        "    side_3:float = float(input(\"Enter your third side no of triangle: \"))\n",
        "    total:float = float(side_1 + side_2 + side_3)\n",
        "    print(f\"The sum of {side_1}, {side_2} and {side_3} is {total}\")\n",
        "\n",
        "if __name__ == \"__main__\":\n",
        "  triangle()"
      ],
      "metadata": {
        "colab": {
          "base_uri": "https://localhost:8080/"
        },
        "id": "wAlcFO3cVMby",
        "outputId": "78ac9ef0-42d0-4bc4-8029-1f55407c2981"
      },
      "execution_count": null,
      "outputs": [
        {
          "output_type": "stream",
          "name": "stdout",
          "text": [
            "05_triangle_perimeter.\n",
            "This code is about sum of triangle sides\n",
            "Enter your first side no of triangle: 5\n",
            "Enter your second side no of triangle: 5\n",
            "Enter your third side no of triangle: 5\n",
            "The sum of 5.0, 5.0 and 5.0 is 15.0\n"
          ]
        }
      ]
    },
    {
      "cell_type": "code",
      "source": [
        "print(\"06_square_number. \")\n",
        "\n",
        "def square():\n",
        "    print(\"This code is about square of given number. \")\n",
        "    int_1:int = int(input(\"Enter any number i will give you square value: \"))\n",
        "    print(f\"The square of {int_1} is {int_1 ** 2}.\")\n",
        "\n",
        "if __name__ == \"__main__\":\n",
        "  square()\n"
      ],
      "metadata": {
        "colab": {
          "base_uri": "https://localhost:8080/"
        },
        "id": "-JYtu3EhaR6u",
        "outputId": "fdf48753-48a7-4c22-a23c-31a8d0171258"
      },
      "execution_count": null,
      "outputs": [
        {
          "output_type": "stream",
          "name": "stdout",
          "text": [
            "06_square_number. \n",
            "This code is about square of given number. \n",
            "Enter any number i will give you square value: 10\n",
            "The square of 10 is 100.\n"
          ]
        }
      ]
    }
  ]
}