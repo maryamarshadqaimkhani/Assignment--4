{
  "nbformat": 4,
  "nbformat_minor": 0,
  "metadata": {
    "colab": {
      "provenance": [],
      "authorship_tag": "ABX9TyNvJpzhhHnNFuk9j+gvYtyt",
      "include_colab_link": true
    },
    "kernelspec": {
      "name": "python3",
      "display_name": "Python 3"
    },
    "language_info": {
      "name": "python"
    }
  },
  "cells": [
    {
      "cell_type": "markdown",
      "metadata": {
        "id": "view-in-github",
        "colab_type": "text"
      },
      "source": [
        "<a href=\"https://colab.research.google.com/github/maryamarshadqaimkhani/Assignment--4/blob/main/01_expressions.ipynb\" target=\"_parent\"><img src=\"https://colab.research.google.com/assets/colab-badge.svg\" alt=\"Open In Colab\"/></a>"
      ]
    },
    {
      "cell_type": "code",
      "execution_count": null,
      "metadata": {
        "id": "A46392TShst2",
        "colab": {
          "base_uri": "https://localhost:8080/"
        },
        "outputId": "a4813252-cf42-4a07-c320-68e3dc21ba3e"
      },
      "outputs": [
        {
          "output_type": "stream",
          "name": "stdout",
          "text": [
            "01_dicesimulator. \n",
            "die_1 in main() starts as :10\n",
            "Total of two dice is: 3.\n",
            "Total of two dice is: 9.\n",
            "Total of two dice is: 7.\n",
            "die_1 in main() is: 10\n"
          ]
        }
      ],
      "source": [
        "import random\n",
        "print(\"01_dicesimulator. \")\n",
        "\n",
        "def roll_dice():\n",
        "    die_1:int = random.randint(1,6)\n",
        "    die_2:int = random.randint(1,6)\n",
        "    total:int = die_1 + die_2\n",
        "    print(f\"Total of two dice is: {total}.\")\n",
        "\n",
        "\n",
        "def main():\n",
        "    die_1: int = 10\n",
        "    print(\"die_1 in main() starts as :\" + str(die_1))\n",
        "    roll_dice()\n",
        "    roll_dice()\n",
        "    roll_dice()\n",
        "    print(\"die_1 in main() is: \" + str(die_1))\n",
        "\n",
        "if __name__ == \"__main__\":\n",
        "  main()\n"
      ]
    },
    {
      "cell_type": "code",
      "source": [
        "print(\"02_e=mc2\")\n",
        "\n",
        "def energy():\n",
        "  c:int = 299792458\n",
        "  m:float = float(input(\"Enter Kilos of mass: \"))\n",
        "  print(\"e = m*c^2\")\n",
        "  print(\"Mass = \" + str( m) + \" kg\")\n",
        "  print(\"c = \" + str(c) + \" m/s\")\n",
        "  print(\"e = \" + str(m * c **2) + \" Joules\")\n",
        "\n",
        "if __name__ == \"__main__\":\n",
        "  energy()"
      ],
      "metadata": {
        "colab": {
          "base_uri": "https://localhost:8080/"
        },
        "id": "8znztnZ4SBdU",
        "outputId": "96fb29c8-42d6-40bc-85ef-18d2eed2482e"
      },
      "execution_count": null,
      "outputs": [
        {
          "output_type": "stream",
          "name": "stdout",
          "text": [
            "02_e=mc2\n",
            "Enter Kilos of mass: 25\n",
            "e = m*c^2\n",
            "Mass = 25.0 kg\n",
            "c = 299792458 m/s\n",
            "e = 2.246887946842044e+18 Joules\n"
          ]
        }
      ]
    },
    {
      "cell_type": "code",
      "source": [
        "print(\"03_feet_to_inches\")\n",
        "\n",
        "inch: int = 12\n",
        "\n",
        "def foot():\n",
        "  feet:int = int(input(\"Enter feet and i will convert in inches: \"))\n",
        "  print(f\"There are {inch * feet} inches in {feet} feet. \")\n",
        "\n",
        "\n",
        "if __name__ == \"__main__\":\n",
        "  foot()\n"
      ],
      "metadata": {
        "colab": {
          "base_uri": "https://localhost:8080/"
        },
        "id": "LD4BVamUX8ds",
        "outputId": "e145848d-199a-4099-e1ac-2e5d241bef4e"
      },
      "execution_count": null,
      "outputs": [
        {
          "output_type": "stream",
          "name": "stdout",
          "text": [
            "03_feet_to_inches\n",
            "Enter feet and i will convert in inches:  500\n",
            "There are 6000 inches in 500 feet. \n"
          ]
        }
      ]
    },
    {
      "cell_type": "code",
      "source": [
        "import math\n",
        "print(\"04_pythagorean_theorem\")\n",
        "\n",
        "\n",
        "def triangle():\n",
        "  ab:float = float(input(\"Enter the value of the side AB: \"))\n",
        "  ac:float = float(input(\"Enter the value of the side AC: \"))\n",
        "  bc: float = math.sqrt(ab**2 + ac**2)\n",
        "  print(f\"The length of bc (the hypothenus is : {bc})\")\n",
        "\n",
        "\n",
        "if __name__ == \"__main__\":\n",
        "  triangle()\n"
      ],
      "metadata": {
        "id": "7TwjxX7tfDGr",
        "colab": {
          "base_uri": "https://localhost:8080/"
        },
        "outputId": "27973403-14f6-4059-de3e-fddd9799e2c1"
      },
      "execution_count": 4,
      "outputs": [
        {
          "output_type": "stream",
          "name": "stdout",
          "text": [
            "04_pythagorean_theorem\n",
            "Enter the value of the side AB: 4.5\n",
            "Enter the value of the side AC: 6.8\n",
            "The length of bc (the hypothenus is : 8.154140052758475)\n"
          ]
        }
      ]
    },
    {
      "cell_type": "code",
      "source": [
        "print(\"05_remainder_division\")\n",
        "\n",
        "def reminder():\n",
        "  integer_1:int = int(input(\"Enter an integer to be divided: \"))\n",
        "  integer_2:int = int(input(\"Enter an integer to be divide by: \"))\n",
        "  quotient:int = integer_1 // integer_2\n",
        "  remainder:int = integer_1 % integer_2\n",
        "  print(f\"The result of this division is {quotient} with the reminder of {remainder}\")\n",
        "\n",
        "if __name__ == \"__main__\":\n",
        "  reminder()\n"
      ],
      "metadata": {
        "colab": {
          "base_uri": "https://localhost:8080/"
        },
        "id": "xDrGUFLPbTYd",
        "outputId": "8da48b0a-ea65-4605-8e30-422b3c3a0860"
      },
      "execution_count": 6,
      "outputs": [
        {
          "output_type": "stream",
          "name": "stdout",
          "text": [
            "05_remainder_division\n",
            "Enter an integer to be divided: 25\n",
            "Enter an integer to be divide by: 4\n",
            "The result of this division is 6 with the reminder of 1\n"
          ]
        }
      ]
    },
    {
      "cell_type": "code",
      "source": [
        "import random\n",
        "print(\"06_rolldice\")\n",
        "\n",
        "def dice():\n",
        "  die_1:int = random.randint(1,6)\n",
        "  die_2:int = random.randint(1,6)\n",
        "  total:int = int(die_1 + die_2)\n",
        "  print(\"First Die: \" + str(die_1))\n",
        "  print(\"Second Die: \" + str(die_2))\n",
        "  print(f\"Total of two dies : {total}\")\n",
        "\n",
        "if __name__ == \"__main__\":\n",
        "  dice()"
      ],
      "metadata": {
        "colab": {
          "base_uri": "https://localhost:8080/"
        },
        "id": "_HOmUZyWfvGM",
        "outputId": "79eb14c6-4609-48aa-a1f8-397b4188bf14"
      },
      "execution_count": 9,
      "outputs": [
        {
          "output_type": "stream",
          "name": "stdout",
          "text": [
            "06_rolldice\n",
            "First Die: 4\n",
            "Second Die: 5\n",
            "Total of two dies : 9\n"
          ]
        }
      ]
    },
    {
      "cell_type": "code",
      "source": [
        "print(\"06_seconds_in_year\")\n",
        "\n",
        "days_in_year:int = 365\n",
        "hours_per_day:int = 24\n",
        "minutes_per_hour:int = 60\n",
        "seconds_per_minute:int = 60\n",
        "\n",
        "def seconds():\n",
        "  print(f\"There are {days_in_year * hours_per_day * minutes_per_hour * seconds_per_minute} seconds in  a year\")\n",
        "\n",
        "\n",
        "if __name__ == \"__main__\":\n",
        "  seconds()"
      ],
      "metadata": {
        "colab": {
          "base_uri": "https://localhost:8080/"
        },
        "id": "CtDdhb9aizNy",
        "outputId": "78226bdb-d25f-4500-e118-5eb31b561b33"
      },
      "execution_count": 10,
      "outputs": [
        {
          "output_type": "stream",
          "name": "stdout",
          "text": [
            "06_seconds_in_year\n",
            "There are 31536000 seconds in  a year\n"
          ]
        }
      ]
    },
    {
      "cell_type": "code",
      "source": [
        "print(\"07_tiny_mad_lib\")\n",
        "\n",
        "def mad_lib():\n",
        "  noun:str = str(input(\"Enter a noun: \"))\n",
        "  adjective:str = str(input(\"Enter an adjective: \"))\n",
        "  verb:str = str(input(\"Enter a verb: \"))\n",
        "  print(f\"Do you {verb} your {adjective} {noun}?\")\n",
        "\n",
        "\n",
        "if __name__ == \"__main__\":\n",
        "  mad_lib()"
      ],
      "metadata": {
        "colab": {
          "base_uri": "https://localhost:8080/"
        },
        "id": "gqemDY1QkYC-",
        "outputId": "ca6666eb-f400-4329-b68c-76a2d3bdb6db"
      },
      "execution_count": 1,
      "outputs": [
        {
          "output_type": "stream",
          "name": "stdout",
          "text": [
            "07_tiny_mad_lib\n",
            "Enter a noun: clothes\n",
            "Enter an adjective: dirty\n",
            "Enter a verb: wash\n",
            "Do you wash your dirty clothes?\n"
          ]
        }
      ]
    }
  ]
}