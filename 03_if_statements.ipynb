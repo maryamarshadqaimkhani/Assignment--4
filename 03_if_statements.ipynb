{
  "nbformat": 4,
  "nbformat_minor": 0,
  "metadata": {
    "colab": {
      "provenance": [],
      "authorship_tag": "ABX9TyMtQKZ5mbPgIhZBagE54S+s",
      "include_colab_link": true
    },
    "kernelspec": {
      "name": "python3",
      "display_name": "Python 3"
    },
    "language_info": {
      "name": "python"
    }
  },
  "cells": [
    {
      "cell_type": "markdown",
      "metadata": {
        "id": "view-in-github",
        "colab_type": "text"
      },
      "source": [
        "<a href=\"https://colab.research.google.com/github/maryamarshadqaimkhani/Assignment--4/blob/main/03_if_statements.ipynb\" target=\"_parent\"><img src=\"https://colab.research.google.com/assets/colab-badge.svg\" alt=\"Open In Colab\"/></a>"
      ]
    },
    {
      "cell_type": "code",
      "execution_count": null,
      "metadata": {
        "colab": {
          "base_uri": "https://localhost:8080/"
        },
        "id": "asOH-NabieUG",
        "outputId": "dccaf7df-9832-43cb-e3c9-c319f24b1f0c"
      },
      "outputs": [
        {
          "output_type": "stream",
          "name": "stdout",
          "text": [
            "01_print_events\n",
            "Here is twenty even numbers are:  0\n",
            "Here is twenty even numbers are:  2\n",
            "Here is twenty even numbers are:  4\n",
            "Here is twenty even numbers are:  6\n",
            "Here is twenty even numbers are:  8\n",
            "Here is twenty even numbers are:  10\n",
            "Here is twenty even numbers are:  12\n",
            "Here is twenty even numbers are:  14\n",
            "Here is twenty even numbers are:  16\n",
            "Here is twenty even numbers are:  18\n",
            "Here is twenty even numbers are:  20\n",
            "Here is twenty even numbers are:  22\n",
            "Here is twenty even numbers are:  24\n",
            "Here is twenty even numbers are:  26\n",
            "Here is twenty even numbers are:  28\n",
            "Here is twenty even numbers are:  30\n",
            "Here is twenty even numbers are:  32\n",
            "Here is twenty even numbers are:  34\n",
            "Here is twenty even numbers are:  36\n",
            "Here is twenty even numbers are:  38\n",
            "Here is twenty even numbers are:  40\n",
            "Here is twenty even numbers are:  42\n",
            "Here is twenty even numbers are:  44\n",
            "Here is twenty even numbers are:  46\n",
            "Here is twenty even numbers are:  48\n",
            "Here is twenty even numbers are:  50\n",
            "Here is twenty even numbers are:  52\n",
            "Here is twenty even numbers are:  54\n",
            "Here is twenty even numbers are:  56\n",
            "Here is twenty even numbers are:  58\n",
            "Here is twenty even numbers are:  60\n",
            "Here is twenty even numbers are:  62\n",
            "Here is twenty even numbers are:  64\n",
            "Here is twenty even numbers are:  66\n",
            "Here is twenty even numbers are:  68\n",
            "Here is twenty even numbers are:  70\n",
            "Here is twenty even numbers are:  72\n",
            "Here is twenty even numbers are:  74\n",
            "Here is twenty even numbers are:  76\n",
            "Here is twenty even numbers are:  78\n"
          ]
        }
      ],
      "source": [
        "print(\"01_print_events\")\n",
        "\n",
        "def even():\n",
        "  for i in range(40):\n",
        "    print(\"Here is twenty even numbers are: \",i * 2)\n",
        "\n",
        "if __name__ == \"__main__\":\n",
        "  even()\n"
      ]
    },
    {
      "cell_type": "code",
      "source": [
        "print(\"02_international_voting_age\")\n",
        "\n",
        "Peturksbouipo:int = 16\n",
        "Stanlau:int = 25\n",
        "Mayengua:int = 48\n",
        "\n",
        "def main():\n",
        "  age:int = int(input(\"How old are you? \"))\n",
        "  if age >= Peturksbouipo:\n",
        "    print(f\"Your age is {age}.you are eligible to vote in Peturksbouipo! \")\n",
        "  else:\n",
        "    print(f\"Your age is {age}. you are not eligible too vote in Peturksbouipo! \")\n",
        "\n",
        "  if age >= Stanlau:\n",
        "    print(f\"Your age is {age}.you are eligible to vote in Stanlau! \")\n",
        "  else:\n",
        "    print(f\"Your age is {age}. you are not eligible too vote in Stanlau! \")\n",
        "\n",
        "  if age >= Mayengua:\n",
        "    print(f\"Your age is {age}.you are eligible to vote in Mayengua! \")\n",
        "  else:\n",
        "    print(f\"Your age is {age}. you are not eligible too vote in Mayengua! \")\n",
        "\n",
        "if __name__ == \"__main__\":\n",
        "  main()"
      ],
      "metadata": {
        "colab": {
          "base_uri": "https://localhost:8080/"
        },
        "id": "-rTkcby8kjif",
        "outputId": "926527f2-e267-4a71-d59d-d5907133789a"
      },
      "execution_count": null,
      "outputs": [
        {
          "output_type": "stream",
          "name": "stdout",
          "text": [
            "02_international_voting_age\n",
            "How old are you? 17\n",
            "Your age is 17.you are eligible to vote in Peturksbouipo! \n",
            "Your age is 17. you are not eligible too vote in Stanlau! \n",
            "Your age is 17. you are not eligible too vote in Mayengua! \n"
          ]
        }
      ]
    },
    {
      "cell_type": "code",
      "source": [
        "print(\"03_leap_year\")\n",
        "\n",
        "def leap_year():\n",
        "  year:int = int(input(\"Enter as year. \"))\n",
        "\n",
        "  if year % 4 == 0:\n",
        "    if year % 100 == 0:\n",
        "      if year % 400 == 0:\n",
        "        print(f\"{year} is a leap year. \")\n",
        "      else:\n",
        "        print(f\"{year} is not  a leap year. \")\n",
        "    else:\n",
        "      print(f\"{year} is not a leap year. \")\n",
        "  else:\n",
        "      print(f\"{year} is not a leap year. \")\n",
        "\n",
        "if __name__ == \"__main__\":\n",
        "  leap_year()"
      ],
      "metadata": {
        "colab": {
          "base_uri": "https://localhost:8080/"
        },
        "id": "XcDdPctXFgak",
        "outputId": "e7a85ba6-66d0-41c3-9c01-462587672ca6"
      },
      "execution_count": null,
      "outputs": [
        {
          "output_type": "stream",
          "name": "stdout",
          "text": [
            "03_leap_year\n",
            "Enter as year. 2035\n",
            "2035 is not a leap year. \n"
          ]
        }
      ]
    },
    {
      "cell_type": "code",
      "source": [
        "print(\"04_tall_enough_to_ride\")\n",
        "\n",
        "min_height:int = 50\n",
        "\n",
        "def main():\n",
        "  user:int = int(input(\"How tall are you? \"))\n",
        "  if user >= min_height:\n",
        "    print(\"You are tall enough to ride. \")\n",
        "  else:\n",
        "    print(\"You are not tall enough to ride. May be next year. \")\n",
        "\n",
        "if __name__ == \"__main__\":\n",
        "  main()"
      ],
      "metadata": {
        "colab": {
          "base_uri": "https://localhost:8080/"
        },
        "id": "gQ9YlyDTIA3l",
        "outputId": "acdd5b49-1bc3-479d-c893-fd34457a7356"
      },
      "execution_count": null,
      "outputs": [
        {
          "output_type": "stream",
          "name": "stdout",
          "text": [
            "04_tall_enough_to_ride\n",
            "How tall are you? 45\n",
            "You are not tall enough to ride. May be next year. \n"
          ]
        }
      ]
    },
    {
      "cell_type": "code",
      "source": [
        "print(\"05_random_numbers\")\n",
        "\n",
        "import random\n",
        "\n",
        "def main():\n",
        "  for i in range(10):\n",
        "    num:list[int] = random.randint(1, 100)\n",
        "    print(num)\n",
        "\n",
        "\n",
        "if __name__ == \"__main__\":\n",
        "  main()\n"
      ],
      "metadata": {
        "colab": {
          "base_uri": "https://localhost:8080/"
        },
        "id": "m-nMACo9KhrB",
        "outputId": "a6d75c9a-f407-43c4-eef0-e870d37b460d"
      },
      "execution_count": null,
      "outputs": [
        {
          "output_type": "stream",
          "name": "stdout",
          "text": [
            "05_random_numbers\n",
            "57\n",
            "1\n",
            "48\n",
            "32\n",
            "16\n",
            "2\n",
            "86\n",
            "5\n",
            "75\n",
            "78\n"
          ]
        }
      ]
    }
  ]
}